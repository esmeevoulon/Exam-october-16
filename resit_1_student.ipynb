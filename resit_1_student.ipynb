{
 "cells": [
  {
   "cell_type": "markdown",
   "metadata": {},
   "source": [
    "# Exam R\n",
    "Mark Klik & Misja Mikkers\n",
    "\n",
    "# Introduction\n",
    "\n",
    "Before you turn this problem in, make sure everything runs as expected. First, **restart the kernel** (in the menubar, select Kernel$\\rightarrow$Restart) and then **run all cells** (in the menubar, select Cell$\\rightarrow$Run All).\n",
    "\n",
    "Make sure you fill in any place that says `YOUR CODE HERE` or \"YOUR ANSWER HERE\", as well as your name and collaborators below:\n",
    "\n"
   ]
  },
  {
   "cell_type": "code",
   "execution_count": 89,
   "metadata": {},
   "outputs": [],
   "source": [
    "NAME = \"Esmee Voulon, #2003799#\"\n",
    "COLLABORATORS = \"\""
   ]
  },
  {
   "cell_type": "markdown",
   "metadata": {},
   "source": [
    "Fill in the cell above to provide us with your name and student number, like\n",
    "\n",
    "NAME = \"Adam Smith, #student number#\"\n",
    "\n",
    "where you replace \"#student number#\" with your ... (very good!)\n",
    "\n",
    "Unfortunately, you are not allowed to work with \"COLLABORATORS\" in this exam.\n",
    "\n",
    "## exam October 16th, 2018\n",
    "\n",
    "With this R part of the exam you can earn at max. 4 points.\n",
    "\n",
    "In the first cell of the notebook, give us your name and student number in the way indicated above.\n",
    "\n",
    "Fill in the notebook (see below for code cells and text cells that you need to fill in).\n",
    "\n",
    "If you look at the menus above (File, Edit, View etc.), there is one called \"Cell\". If you click on this, you can change the \"Cell Type\". Choose \"Code\" when you are typing python or R code. Choose \"Markdown\" when you are typing, well, markdown.\n",
    "\n",
    "When you finish the notebook, make sure that you save it with the output of your code included.\n",
    "\n",
    "Then put it on github, e.g. by dragging it onto github (see instructions below).\n",
    "\n",
    "Finally, add a link to your README file with the name of this exam: \"Exam R September 7, 2018\".\n",
    "\n",
    "# Packages\n",
    "\n",
    "You will need the following packages for this exam."
   ]
  },
  {
   "cell_type": "code",
   "execution_count": 90,
   "metadata": {},
   "outputs": [],
   "source": [
    "library(tidyverse)\n"
   ]
  },
  {
   "cell_type": "markdown",
   "metadata": {},
   "source": [
    "# Assignment 1\n",
    "\n",
    "## Data\n",
    "\n",
    "Please read in \"Credit.csv\" and check the structure.\n",
    "\n",
    "If needed change the variables Balance and Income into a numeric variable.\n",
    "\n",
    "Hint: don't forget you cannot change a factor in a numeric variable directly!\n",
    "\n"
   ]
  },
  {
   "cell_type": "code",
   "execution_count": 91,
   "metadata": {},
   "outputs": [],
   "source": [
    "data <- read.csv(file = \"Credit.csv\", header = TRUE, sep = \";\")"
   ]
  },
  {
   "cell_type": "code",
   "execution_count": 92,
   "metadata": {},
   "outputs": [
    {
     "data": {
      "text/html": [
       "<table>\n",
       "<thead><tr><th scope=col>X</th><th scope=col>ID</th><th scope=col>Income</th><th scope=col>Limit</th><th scope=col>Rating</th><th scope=col>Cards</th><th scope=col>Age</th><th scope=col>Education</th><th scope=col>Gender</th><th scope=col>Student</th><th scope=col>Married</th><th scope=col>Ethnicity</th><th scope=col>Balance</th></tr></thead>\n",
       "<tbody>\n",
       "\t<tr><td>1        </td><td>1        </td><td>14,891   </td><td>3606     </td><td>283      </td><td>2        </td><td>34       </td><td>11       </td><td> Male    </td><td>No       </td><td>Yes      </td><td>Caucasian</td><td> 333     </td></tr>\n",
       "\t<tr><td>2        </td><td>2        </td><td>106,025  </td><td>6645     </td><td>483      </td><td>3        </td><td>82       </td><td>15       </td><td>Female   </td><td>Yes      </td><td>Yes      </td><td>Asian    </td><td> 903     </td></tr>\n",
       "\t<tr><td>3        </td><td>3        </td><td>104,593  </td><td>7075     </td><td>514      </td><td>4        </td><td>71       </td><td>11       </td><td> Male    </td><td>No       </td><td>No       </td><td>Asian    </td><td> 580     </td></tr>\n",
       "\t<tr><td>4        </td><td>4        </td><td>148,924  </td><td>9504     </td><td>681      </td><td>3        </td><td>36       </td><td>11       </td><td>Female   </td><td>No       </td><td>No       </td><td>Asian    </td><td> 964     </td></tr>\n",
       "\t<tr><td>5        </td><td>5        </td><td>55,882   </td><td>4897     </td><td>357      </td><td>2        </td><td>68       </td><td>16       </td><td> Male    </td><td>No       </td><td>Yes      </td><td>Caucasian</td><td> 331     </td></tr>\n",
       "\t<tr><td>6        </td><td>6        </td><td>80,18    </td><td>8047     </td><td>569      </td><td>4        </td><td>77       </td><td>10       </td><td> Male    </td><td>No       </td><td>No       </td><td>Caucasian</td><td>1151     </td></tr>\n",
       "</tbody>\n",
       "</table>\n"
      ],
      "text/latex": [
       "\\begin{tabular}{r|lllllllllllll}\n",
       " X & ID & Income & Limit & Rating & Cards & Age & Education & Gender & Student & Married & Ethnicity & Balance\\\\\n",
       "\\hline\n",
       "\t 1         & 1         & 14,891    & 3606      & 283       & 2         & 34        & 11        &  Male     & No        & Yes       & Caucasian &  333     \\\\\n",
       "\t 2         & 2         & 106,025   & 6645      & 483       & 3         & 82        & 15        & Female    & Yes       & Yes       & Asian     &  903     \\\\\n",
       "\t 3         & 3         & 104,593   & 7075      & 514       & 4         & 71        & 11        &  Male     & No        & No        & Asian     &  580     \\\\\n",
       "\t 4         & 4         & 148,924   & 9504      & 681       & 3         & 36        & 11        & Female    & No        & No        & Asian     &  964     \\\\\n",
       "\t 5         & 5         & 55,882    & 4897      & 357       & 2         & 68        & 16        &  Male     & No        & Yes       & Caucasian &  331     \\\\\n",
       "\t 6         & 6         & 80,18     & 8047      & 569       & 4         & 77        & 10        &  Male     & No        & No        & Caucasian & 1151     \\\\\n",
       "\\end{tabular}\n"
      ],
      "text/markdown": [
       "\n",
       "X | ID | Income | Limit | Rating | Cards | Age | Education | Gender | Student | Married | Ethnicity | Balance | \n",
       "|---|---|---|---|---|---|\n",
       "| 1         | 1         | 14,891    | 3606      | 283       | 2         | 34        | 11        |  Male     | No        | Yes       | Caucasian |  333      | \n",
       "| 2         | 2         | 106,025   | 6645      | 483       | 3         | 82        | 15        | Female    | Yes       | Yes       | Asian     |  903      | \n",
       "| 3         | 3         | 104,593   | 7075      | 514       | 4         | 71        | 11        |  Male     | No        | No        | Asian     |  580      | \n",
       "| 4         | 4         | 148,924   | 9504      | 681       | 3         | 36        | 11        | Female    | No        | No        | Asian     |  964      | \n",
       "| 5         | 5         | 55,882    | 4897      | 357       | 2         | 68        | 16        |  Male     | No        | Yes       | Caucasian |  331      | \n",
       "| 6         | 6         | 80,18     | 8047      | 569       | 4         | 77        | 10        |  Male     | No        | No        | Caucasian | 1151      | \n",
       "\n",
       "\n"
      ],
      "text/plain": [
       "  X ID Income  Limit Rating Cards Age Education Gender Student Married\n",
       "1 1 1  14,891  3606  283    2     34  11         Male  No      Yes    \n",
       "2 2 2  106,025 6645  483    3     82  15        Female Yes     Yes    \n",
       "3 3 3  104,593 7075  514    4     71  11         Male  No      No     \n",
       "4 4 4  148,924 9504  681    3     36  11        Female No      No     \n",
       "5 5 5  55,882  4897  357    2     68  16         Male  No      Yes    \n",
       "6 6 6  80,18   8047  569    4     77  10         Male  No      No     \n",
       "  Ethnicity Balance\n",
       "1 Caucasian  333   \n",
       "2 Asian      903   \n",
       "3 Asian      580   \n",
       "4 Asian      964   \n",
       "5 Caucasian  331   \n",
       "6 Caucasian 1151   "
      ]
     },
     "metadata": {},
     "output_type": "display_data"
    }
   ],
   "source": [
    "head(data)"
   ]
  },
  {
   "cell_type": "code",
   "execution_count": 93,
   "metadata": {},
   "outputs": [
    {
     "name": "stdout",
     "output_type": "stream",
     "text": [
      "'data.frame':\t400 obs. of  13 variables:\n",
      " $ X        : int  1 2 3 4 5 6 7 8 9 10 ...\n",
      " $ ID       : int  1 2 3 4 5 6 7 8 9 10 ...\n",
      " $ Income   : Factor w/ 399 levels \"10,354\",\"10,363\",..: 67 18 17 72 332 382 137 371 76 370 ...\n",
      " $ Limit    : int  3606 6645 7075 9504 4897 8047 3388 7114 3300 6819 ...\n",
      " $ Rating   : int  283 483 514 681 357 569 259 512 266 491 ...\n",
      " $ Cards    : int  2 3 4 3 2 4 2 2 5 3 ...\n",
      " $ Age      : int  34 82 71 36 68 77 37 87 66 41 ...\n",
      " $ Education: int  11 15 11 11 16 10 12 9 13 19 ...\n",
      " $ Gender   : Factor w/ 2 levels \" Male\",\"Female\": 1 2 1 2 1 1 2 1 2 2 ...\n",
      " $ Student  : Factor w/ 2 levels \"No\",\"Yes\": 1 2 1 1 1 1 1 1 1 2 ...\n",
      " $ Married  : Factor w/ 2 levels \"No\",\"Yes\": 2 2 1 1 2 1 1 1 1 2 ...\n",
      " $ Ethnicity: Factor w/ 3 levels \"African American\",..: 3 2 2 2 3 3 1 2 3 1 ...\n",
      " $ Balance  : int  333 903 580 964 331 1151 203 872 279 1350 ...\n"
     ]
    }
   ],
   "source": [
    "str(data)"
   ]
  },
  {
   "cell_type": "code",
   "execution_count": 94,
   "metadata": {},
   "outputs": [
    {
     "name": "stderr",
     "output_type": "stream",
     "text": [
      "Warning message in eval(expr, envir, enclos):\n",
      "\"NAs introduced by coercion\""
     ]
    }
   ],
   "source": [
    "Income2 <- as.numeric(as.character(data$Income))"
   ]
  },
  {
   "cell_type": "code",
   "execution_count": null,
   "metadata": {},
   "outputs": [],
   "source": []
  },
  {
   "cell_type": "markdown",
   "metadata": {},
   "source": [
    "# Filter data\n",
    "\n",
    "Select the variables ID, Income, Student and Balance.\n",
    "We are in this case only interested in students. Therefore, make sure you're dataset contains only students (so delete all non-students).\n",
    "Show the head of your dataframe"
   ]
  },
  {
   "cell_type": "code",
   "execution_count": 95,
   "metadata": {},
   "outputs": [
    {
     "data": {
      "text/html": [
       "<table>\n",
       "<thead><tr><th scope=col>ID</th><th scope=col>Income</th><th scope=col>Student</th><th scope=col>Balance</th></tr></thead>\n",
       "<tbody>\n",
       "\t<tr><td>1      </td><td>14,891 </td><td>No     </td><td> 333   </td></tr>\n",
       "\t<tr><td>2      </td><td>106,025</td><td>Yes    </td><td> 903   </td></tr>\n",
       "\t<tr><td>3      </td><td>104,593</td><td>No     </td><td> 580   </td></tr>\n",
       "\t<tr><td>4      </td><td>148,924</td><td>No     </td><td> 964   </td></tr>\n",
       "\t<tr><td>5      </td><td>55,882 </td><td>No     </td><td> 331   </td></tr>\n",
       "\t<tr><td>6      </td><td>80,18  </td><td>No     </td><td>1151   </td></tr>\n",
       "</tbody>\n",
       "</table>\n"
      ],
      "text/latex": [
       "\\begin{tabular}{r|llll}\n",
       " ID & Income & Student & Balance\\\\\n",
       "\\hline\n",
       "\t 1       & 14,891  & No      &  333   \\\\\n",
       "\t 2       & 106,025 & Yes     &  903   \\\\\n",
       "\t 3       & 104,593 & No      &  580   \\\\\n",
       "\t 4       & 148,924 & No      &  964   \\\\\n",
       "\t 5       & 55,882  & No      &  331   \\\\\n",
       "\t 6       & 80,18   & No      & 1151   \\\\\n",
       "\\end{tabular}\n"
      ],
      "text/markdown": [
       "\n",
       "ID | Income | Student | Balance | \n",
       "|---|---|---|---|---|---|\n",
       "| 1       | 14,891  | No      |  333    | \n",
       "| 2       | 106,025 | Yes     |  903    | \n",
       "| 3       | 104,593 | No      |  580    | \n",
       "| 4       | 148,924 | No      |  964    | \n",
       "| 5       | 55,882  | No      |  331    | \n",
       "| 6       | 80,18   | No      | 1151    | \n",
       "\n",
       "\n"
      ],
      "text/plain": [
       "  ID Income  Student Balance\n",
       "1 1  14,891  No       333   \n",
       "2 2  106,025 Yes      903   \n",
       "3 3  104,593 No       580   \n",
       "4 4  148,924 No       964   \n",
       "5 5  55,882  No       331   \n",
       "6 6  80,18   No      1151   "
      ]
     },
     "metadata": {},
     "output_type": "display_data"
    }
   ],
   "source": [
    "selectedvariables <- c(\"ID\", \"Income\", \"Student\", \"Balance\")\n",
    "newdata <- data[selectedvariables]\n",
    "head(newdata)"
   ]
  },
  {
   "cell_type": "code",
   "execution_count": null,
   "metadata": {},
   "outputs": [],
   "source": []
  },
  {
   "cell_type": "code",
   "execution_count": null,
   "metadata": {},
   "outputs": [],
   "source": []
  },
  {
   "cell_type": "markdown",
   "metadata": {},
   "source": [
    "\n",
    "\n",
    "## Regression \n",
    "\n",
    "You will now have to run a regression with Balance as a function of Income. Show the summary statistics."
   ]
  },
  {
   "cell_type": "code",
   "execution_count": null,
   "metadata": {},
   "outputs": [],
   "source": []
  },
  {
   "cell_type": "code",
   "execution_count": 96,
   "metadata": {},
   "outputs": [
    {
     "data": {
      "text/plain": [
       "\n",
       "Call:\n",
       "lm(formula = Income2 ~ Balance, data = data)\n",
       "\n",
       "Residuals:\n",
       "ALL 2 residuals are 0: no residual degrees of freedom!\n",
       "\n",
       "Coefficients:\n",
       "            Estimate Std. Error t value Pr(>|t|)\n",
       "(Intercept) 192.3658         NA      NA       NA\n",
       "Balance      -0.2996         NA      NA       NA\n",
       "\n",
       "Residual standard error: NaN on 0 degrees of freedom\n",
       "  (398 observations deleted due to missingness)\n",
       "Multiple R-squared:      1,\tAdjusted R-squared:    NaN \n",
       "F-statistic:   NaN on 1 and 0 DF,  p-value: NA\n"
      ]
     },
     "metadata": {},
     "output_type": "display_data"
    }
   ],
   "source": [
    "reg1 <- lm(Income2 ~ Balance, data = data)\n",
    "summary(reg1)"
   ]
  },
  {
   "cell_type": "markdown",
   "metadata": {},
   "source": [
    "## Plot\n",
    "\n",
    "Now you have to make a scatter plot of the data:\n",
    "\n",
    "* with Income on the x-axis\n",
    "* Balance on the y-axis\n",
    "* the regression line in green, with confidence interval\n",
    "* in a light theme\n"
   ]
  },
  {
   "cell_type": "code",
   "execution_count": 109,
   "metadata": {},
   "outputs": [
    {
     "name": "stderr",
     "output_type": "stream",
     "text": [
      "Warning message:\n",
      "\"Removed 398 rows containing non-finite values (stat_smooth).\"Warning message in qt((1 - level)/2, df):\n",
      "\"NaNs produced\"Warning message:\n",
      "\"Removed 398 rows containing missing values (geom_point).\""
     ]
    },
    {
     "data": {},
     "metadata": {},
     "output_type": "display_data"
    },
    {
     "data": {
      "image/png": "[encoded data removed]",
      "text/plain": [
       "plot without title"
      ]
     },
     "metadata": {},
     "output_type": "display_data"
    }
   ],
   "source": [
    "scatterplot1 <- ggplot(data = data, aes(x = Income2, y = Balance)) + geom_point() + theme_light() + geom_smooth(method=lm, color = \"green\")\n",
    "scatterplot1"
   ]
  },
  {
   "cell_type": "markdown",
   "metadata": {},
   "source": [
    "End of notebook"
   ]
  }
 ],
 "metadata": {
  "anaconda-cloud": {},
  "kernelspec": {
   "display_name": "R",
   "language": "R",
   "name": "ir"
  },
  "language_info": {
   "codemirror_mode": "r",
   "file_extension": ".r",
   "mimetype": "text/x-r-source",
   "name": "R",
   "pygments_lexer": "r",
   "version": "3.4.3"
  }
 },
 "nbformat": 4,
 "nbformat_minor": 1
}
