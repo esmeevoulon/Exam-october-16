{
 "cells": [
  {
   "cell_type": "markdown",
   "metadata": {},
   "source": [
    "Before you turn this problem in, make sure everything runs as expected. First, **restart the kernel** (in the menubar, select Kernel$\\rightarrow$Restart) and then **run all cells** (in the menubar, select Cell$\\rightarrow$Run All).\n",
    "\n",
    "Make sure you fill in any place that says `YOUR CODE HERE` or \"YOUR ANSWER HERE\", as well as your name and collaborators below:"
   ]
  },
  {
   "cell_type": "code",
   "execution_count": 1,
   "metadata": {},
   "outputs": [],
   "source": [
    "NAME = \"Esmee Voulon, #2003799#\"\n",
    "COLLABORATORS = \"\""
   ]
  },
  {
   "cell_type": "markdown",
   "metadata": {},
   "source": [
    "---"
   ]
  },
  {
   "cell_type": "markdown",
   "metadata": {
    "deletable": false,
    "editable": false,
    "nbgrader": {
     "checksum": "e53eb7da4b90cccdbeb5924177a0d295",
     "grade": false,
     "grade_id": "cell-bace731f185b39bb",
     "locked": true,
     "schema_version": 1,
     "solution": false
    }
   },
   "source": [
    "Fill in the cell above to provide us with your name and student number, like\n",
    "\n",
    "NAME = \"Adam Smith, #student number#\"\n",
    "\n",
    "where you replace \"#student number#\" with your ... (very good!)\n",
    "\n",
    "Unfortunately, you are not allowed to work with \"COLLABORATORS\" in this exam."
   ]
  },
  {
   "cell_type": "markdown",
   "metadata": {
    "deletable": false,
    "editable": false,
    "nbgrader": {
     "checksum": "a120222992207cf37e5d4d376f028c40",
     "grade": false,
     "grade_id": "cell-895e9a7b94992ec9",
     "locked": true,
     "schema_version": 1,
     "solution": false
    }
   },
   "source": [
    "# exam October 16th, 2018\n",
    "\n",
    "With this python part of the exam you can earn at max. 4 points.\n",
    "\n"
   ]
  },
  {
   "cell_type": "markdown",
   "metadata": {
    "deletable": false,
    "editable": false,
    "nbgrader": {
     "checksum": "71dc651357d194e487cc514d996391cc",
     "grade": false,
     "grade_id": "cell-540987818af25557",
     "locked": true,
     "schema_version": 1,
     "solution": false
    }
   },
   "source": [
    "\n",
    "In the first cell of the notebook, give us your name and student number in the way indicated above. \n",
    "\n",
    "Fill in the notebook (see below for code cells and text cells that you need to fill in).\n",
    "\n",
    "If you look at the menus above (File, Edit, View etc.), there is one called \"Cell\". If you click on this, you can change the \"Cell Type\". Choose \"Code\" when you are typing python or R code. Choose \"Markdown\" when you are typing, well, markdown.\n",
    "\n",
    "When you finish the notebook, make sure that you **save it with the output of your code included**. \n",
    "\n",
    "Then put it on github, e.g. by dragging it onto github (see instructions below). \n",
    "\n",
    "Finally, add a link to your README file with the name of this exam: \"Exam October 16, 2018\".\n",
    "\n"
   ]
  },
  {
   "cell_type": "raw",
   "metadata": {},
   "source": []
  },
  {
   "cell_type": "markdown",
   "metadata": {
    "deletable": false,
    "editable": false,
    "nbgrader": {
     "checksum": "481d5a8cba4bec2333f728993635d3d3",
     "grade": false,
     "grade_id": "cell-e1cf88cb799f1f43",
     "locked": true,
     "schema_version": 1,
     "solution": false
    }
   },
   "source": [
    "## Competition and number of firms\n",
    "\n",
    "We start by importing the usual libraries."
   ]
  },
  {
   "cell_type": "code",
   "execution_count": 2,
   "metadata": {
    "deletable": false,
    "editable": false,
    "nbgrader": {
     "checksum": "7bd770ef54db47c3b6c8d0e31f6baef6",
     "grade": false,
     "grade_id": "cell-b895769bf40e183a",
     "locked": true,
     "schema_version": 1,
     "solution": false
    }
   },
   "outputs": [],
   "source": [
    "import matplotlib.pyplot as plt\n",
    "import pandas as pd\n",
    "import numpy as np\n",
    "from scipy import optimize\n",
    "%matplotlib inline"
   ]
  },
  {
   "cell_type": "markdown",
   "metadata": {},
   "source": [
    "We consider a market with $n$ firms where $n$ can vary. The (inverse) demand function on this market is given by $p(Q)=1-Q$ and firms produce with the same cost function: $c(q)=0.1q$. "
   ]
  },
  {
   "cell_type": "code",
   "execution_count": 3,
   "metadata": {},
   "outputs": [],
   "source": [
    "def p(Q):\n",
    "    return 1-Q\n",
    "\n",
    "def c(q):\n",
    "    return 0.1*q"
   ]
  },
  {
   "cell_type": "markdown",
   "metadata": {
    "deletable": false,
    "editable": false,
    "nbgrader": {
     "checksum": "66ad412dc5db2ef36391c74c7db38a1a",
     "grade": false,
     "grade_id": "cell-83284c4090d6de8c",
     "locked": true,
     "schema_version": 1,
     "solution": false
    }
   },
   "source": [
    "#### a) [0.5 points] Explain in words what the following code does. In particular, why is this the best response of a firm if its competitors produce $Q$ in total? What does \"0,1\" at the end of the `fminbound` statement mean?"
   ]
  },
  {
   "cell_type": "code",
   "execution_count": 4,
   "metadata": {
    "deletable": false,
    "editable": false,
    "nbgrader": {
     "checksum": "d94ba6a45073c3f0a3ee7a7a08659128",
     "grade": false,
     "grade_id": "cell-7770128c0a989c60",
     "locked": true,
     "schema_version": 1,
     "solution": false
    }
   },
   "outputs": [],
   "source": [
    "def Best_response(Q):\n",
    "    q = optimize.fminbound(lambda x: -(p(x+Q)*x-c(x)),0,1)\n",
    "    return q"
   ]
  },
  {
   "cell_type": "markdown",
   "metadata": {
    "deletable": false,
    "nbgrader": {
     "checksum": "cae5873581f8c1e95ad12b5596742e37",
     "grade": true,
     "grade_id": "cell-8a5761555a34b60b",
     "locked": false,
     "points": 0.5,
     "schema_version": 1,
     "solution": true
    }
   },
   "source": [
    "The code gives the amount that a firm should produce (their best response). The function optimize.fminbound gives the bounded minimization for scalar functions. Therefore there stands a - in front of the (p(x+Q)*x-c(x)), so that it will result in an optimum instead of a minimun. The \"0,1\" means that the bounderies for the amount of q are between 0 and 1."
   ]
  },
  {
   "cell_type": "code",
   "execution_count": 51,
   "metadata": {},
   "outputs": [
    {
     "name": "stdout",
     "output_type": "stream",
     "text": [
      "[0.9        0.45       0.3        0.225      0.18       0.15\n",
      " 0.12857143 0.1125     0.1        0.09       0.08181818 0.075\n",
      " 0.06923077 0.06428571 0.06       0.05625    0.05294118 0.05\n",
      " 0.04736842 0.045      0.04285714 0.04090909 0.03913043 0.0375\n",
      " 0.036      0.03461538 0.03333333 0.03214286 0.03103448 0.03\n",
      " 0.02903226 0.028125   0.02727273 0.02647059 0.02571429 0.025\n",
      " 0.02432432 0.02368421 0.02307692 0.0225     0.02195122 0.02142857\n",
      " 0.02093023 0.02045455 0.02       0.01956522 0.01914894 0.01875\n",
      " 0.01836735 0.018      0.01764706 0.01730769 0.01698113 0.01666667\n",
      " 0.01636364 0.01607143 0.01578947 0.01551724 0.01525424 0.015\n",
      " 0.0147541  0.01451613 0.01428571 0.0140625  0.01384615 0.01363636\n",
      " 0.01343284 0.01323529 0.01304348 0.01285714 0.01267606 0.0125\n",
      " 0.01232877 0.01216216 0.012      0.01184211 0.01168831 0.01153846\n",
      " 0.01139241 0.01125    0.01111111 0.01097561 0.01084337 0.01071429\n",
      " 0.01058824 0.01046512 0.01034483 0.01022727 0.01011236 0.01\n",
      " 0.00989011 0.00978261 0.00967742 0.00957447 0.00947368 0.009375\n",
      " 0.00927835 0.00918367 0.00909091 0.009     ]\n"
     ]
    }
   ],
   "source": [
    "print(q)"
   ]
  },
  {
   "cell_type": "markdown",
   "metadata": {
    "deletable": false,
    "editable": false,
    "nbgrader": {
     "checksum": "0533fff8707c3e48f51f030c54a65cfc",
     "grade": false,
     "grade_id": "cell-1a9c57d4d1fc34dc",
     "locked": true,
     "schema_version": 1,
     "solution": false
    }
   },
   "source": [
    "The following cell calculates the fixed point for a symmetric equilibrium: if each firm produces $q$ then $q$ should be the best respons to the other firms producing $Q=(n-1)q$ together."
   ]
  },
  {
   "cell_type": "code",
   "execution_count": 5,
   "metadata": {
    "deletable": false,
    "editable": false,
    "nbgrader": {
     "checksum": "c5e796ee2d862918c9de470024afce08",
     "grade": false,
     "grade_id": "cell-d33704e6e42e5387",
     "locked": true,
     "schema_version": 1,
     "solution": false
    }
   },
   "outputs": [],
   "source": [
    "def fixed_point(q,n):\n",
    "    return q-Best_response((n-1)*q)"
   ]
  },
  {
   "cell_type": "markdown",
   "metadata": {
    "deletable": false,
    "editable": false,
    "nbgrader": {
     "checksum": "caa9cc074f728a69accfbc1cd8979c41",
     "grade": false,
     "grade_id": "cell-3b8ee172d9950128",
     "locked": true,
     "schema_version": 1,
     "solution": false
    }
   },
   "source": [
    "#### b) [1 point] Define a function `output(n)` that gives each firm's output level as a function of the number of firms in the market.\n",
    "\n",
    "[hint: you need to \"solve\" `fixed_point` as a function of `q`, for a given `n`; use one of the numerical solvers that we used in class]"
   ]
  },
  {
   "cell_type": "code",
   "execution_count": 6,
   "metadata": {
    "deletable": false,
    "nbgrader": {
     "checksum": "e215045e9aec84c2b159f10a36170bca",
     "grade": true,
     "grade_id": "cell-a5e7853f661e19b2",
     "locked": false,
     "points": 1,
     "schema_version": 1,
     "solution": true
    }
   },
   "outputs": [],
   "source": [
    "def output(n):\n",
    "    return "
   ]
  },
  {
   "cell_type": "code",
   "execution_count": 52,
   "metadata": {},
   "outputs": [
    {
     "ename": "TypeError",
     "evalue": "fixed_point() missing 1 required positional argument: 'n'",
     "output_type": "error",
     "traceback": [
      "\u001b[1;31m---------------------------------------------------------------------------\u001b[0m",
      "\u001b[1;31mTypeError\u001b[0m                                 Traceback (most recent call last)",
      "\u001b[1;32m<ipython-input-52-5be3b67c6a48>\u001b[0m in \u001b[0;36m<module>\u001b[1;34m()\u001b[0m\n\u001b[0;32m      1\u001b[0m \u001b[1;32mfrom\u001b[0m \u001b[0mscipy\u001b[0m \u001b[1;32mimport\u001b[0m \u001b[0moptimize\u001b[0m\u001b[1;33m\u001b[0m\u001b[0m\n\u001b[0;32m      2\u001b[0m \u001b[1;32mfrom\u001b[0m \u001b[0mscipy\u001b[0m\u001b[1;33m.\u001b[0m\u001b[0moptimize\u001b[0m \u001b[1;32mimport\u001b[0m \u001b[0mfsolve\u001b[0m\u001b[1;33m\u001b[0m\u001b[0m\n\u001b[1;32m----> 3\u001b[1;33m \u001b[0mx\u001b[0m \u001b[1;33m=\u001b[0m \u001b[0mfsolve\u001b[0m\u001b[1;33m(\u001b[0m\u001b[0mfixed_point\u001b[0m\u001b[1;33m,\u001b[0m \u001b[1;36m1.0\u001b[0m\u001b[1;33m)\u001b[0m\u001b[1;33m\u001b[0m\u001b[0m\n\u001b[0m",
      "\u001b[1;32m~\\Anaconda3\\lib\\site-packages\\scipy\\optimize\\minpack.py\u001b[0m in \u001b[0;36mfsolve\u001b[1;34m(func, x0, args, fprime, full_output, col_deriv, xtol, maxfev, band, epsfcn, factor, diag)\u001b[0m\n\u001b[0;32m    144\u001b[0m                'diag': diag}\n\u001b[0;32m    145\u001b[0m \u001b[1;33m\u001b[0m\u001b[0m\n\u001b[1;32m--> 146\u001b[1;33m     \u001b[0mres\u001b[0m \u001b[1;33m=\u001b[0m \u001b[0m_root_hybr\u001b[0m\u001b[1;33m(\u001b[0m\u001b[0mfunc\u001b[0m\u001b[1;33m,\u001b[0m \u001b[0mx0\u001b[0m\u001b[1;33m,\u001b[0m \u001b[0margs\u001b[0m\u001b[1;33m,\u001b[0m \u001b[0mjac\u001b[0m\u001b[1;33m=\u001b[0m\u001b[0mfprime\u001b[0m\u001b[1;33m,\u001b[0m \u001b[1;33m**\u001b[0m\u001b[0moptions\u001b[0m\u001b[1;33m)\u001b[0m\u001b[1;33m\u001b[0m\u001b[0m\n\u001b[0m\u001b[0;32m    147\u001b[0m     \u001b[1;32mif\u001b[0m \u001b[0mfull_output\u001b[0m\u001b[1;33m:\u001b[0m\u001b[1;33m\u001b[0m\u001b[0m\n\u001b[0;32m    148\u001b[0m         \u001b[0mx\u001b[0m \u001b[1;33m=\u001b[0m \u001b[0mres\u001b[0m\u001b[1;33m[\u001b[0m\u001b[1;34m'x'\u001b[0m\u001b[1;33m]\u001b[0m\u001b[1;33m\u001b[0m\u001b[0m\n",
      "\u001b[1;32m~\\Anaconda3\\lib\\site-packages\\scipy\\optimize\\minpack.py\u001b[0m in \u001b[0;36m_root_hybr\u001b[1;34m(func, x0, args, jac, col_deriv, xtol, maxfev, band, eps, factor, diag, **unknown_options)\u001b[0m\n\u001b[0;32m    210\u001b[0m     \u001b[1;32mif\u001b[0m \u001b[1;32mnot\u001b[0m \u001b[0misinstance\u001b[0m\u001b[1;33m(\u001b[0m\u001b[0margs\u001b[0m\u001b[1;33m,\u001b[0m \u001b[0mtuple\u001b[0m\u001b[1;33m)\u001b[0m\u001b[1;33m:\u001b[0m\u001b[1;33m\u001b[0m\u001b[0m\n\u001b[0;32m    211\u001b[0m         \u001b[0margs\u001b[0m \u001b[1;33m=\u001b[0m \u001b[1;33m(\u001b[0m\u001b[0margs\u001b[0m\u001b[1;33m,\u001b[0m\u001b[1;33m)\u001b[0m\u001b[1;33m\u001b[0m\u001b[0m\n\u001b[1;32m--> 212\u001b[1;33m     \u001b[0mshape\u001b[0m\u001b[1;33m,\u001b[0m \u001b[0mdtype\u001b[0m \u001b[1;33m=\u001b[0m \u001b[0m_check_func\u001b[0m\u001b[1;33m(\u001b[0m\u001b[1;34m'fsolve'\u001b[0m\u001b[1;33m,\u001b[0m \u001b[1;34m'func'\u001b[0m\u001b[1;33m,\u001b[0m \u001b[0mfunc\u001b[0m\u001b[1;33m,\u001b[0m \u001b[0mx0\u001b[0m\u001b[1;33m,\u001b[0m \u001b[0margs\u001b[0m\u001b[1;33m,\u001b[0m \u001b[0mn\u001b[0m\u001b[1;33m,\u001b[0m \u001b[1;33m(\u001b[0m\u001b[0mn\u001b[0m\u001b[1;33m,\u001b[0m\u001b[1;33m)\u001b[0m\u001b[1;33m)\u001b[0m\u001b[1;33m\u001b[0m\u001b[0m\n\u001b[0m\u001b[0;32m    213\u001b[0m     \u001b[1;32mif\u001b[0m \u001b[0mepsfcn\u001b[0m \u001b[1;32mis\u001b[0m \u001b[1;32mNone\u001b[0m\u001b[1;33m:\u001b[0m\u001b[1;33m\u001b[0m\u001b[0m\n\u001b[0;32m    214\u001b[0m         \u001b[0mepsfcn\u001b[0m \u001b[1;33m=\u001b[0m \u001b[0mfinfo\u001b[0m\u001b[1;33m(\u001b[0m\u001b[0mdtype\u001b[0m\u001b[1;33m)\u001b[0m\u001b[1;33m.\u001b[0m\u001b[0meps\u001b[0m\u001b[1;33m\u001b[0m\u001b[0m\n",
      "\u001b[1;32m~\\Anaconda3\\lib\\site-packages\\scipy\\optimize\\minpack.py\u001b[0m in \u001b[0;36m_check_func\u001b[1;34m(checker, argname, thefunc, x0, args, numinputs, output_shape)\u001b[0m\n\u001b[0;32m     24\u001b[0m def _check_func(checker, argname, thefunc, x0, args, numinputs,\n\u001b[0;32m     25\u001b[0m                 output_shape=None):\n\u001b[1;32m---> 26\u001b[1;33m     \u001b[0mres\u001b[0m \u001b[1;33m=\u001b[0m \u001b[0matleast_1d\u001b[0m\u001b[1;33m(\u001b[0m\u001b[0mthefunc\u001b[0m\u001b[1;33m(\u001b[0m\u001b[1;33m*\u001b[0m\u001b[1;33m(\u001b[0m\u001b[1;33m(\u001b[0m\u001b[0mx0\u001b[0m\u001b[1;33m[\u001b[0m\u001b[1;33m:\u001b[0m\u001b[0mnuminputs\u001b[0m\u001b[1;33m]\u001b[0m\u001b[1;33m,\u001b[0m\u001b[1;33m)\u001b[0m \u001b[1;33m+\u001b[0m \u001b[0margs\u001b[0m\u001b[1;33m)\u001b[0m\u001b[1;33m)\u001b[0m\u001b[1;33m)\u001b[0m\u001b[1;33m\u001b[0m\u001b[0m\n\u001b[0m\u001b[0;32m     27\u001b[0m     \u001b[1;32mif\u001b[0m \u001b[1;33m(\u001b[0m\u001b[0moutput_shape\u001b[0m \u001b[1;32mis\u001b[0m \u001b[1;32mnot\u001b[0m \u001b[1;32mNone\u001b[0m\u001b[1;33m)\u001b[0m \u001b[1;32mand\u001b[0m \u001b[1;33m(\u001b[0m\u001b[0mshape\u001b[0m\u001b[1;33m(\u001b[0m\u001b[0mres\u001b[0m\u001b[1;33m)\u001b[0m \u001b[1;33m!=\u001b[0m \u001b[0moutput_shape\u001b[0m\u001b[1;33m)\u001b[0m\u001b[1;33m:\u001b[0m\u001b[1;33m\u001b[0m\u001b[0m\n\u001b[0;32m     28\u001b[0m         \u001b[1;32mif\u001b[0m \u001b[1;33m(\u001b[0m\u001b[0moutput_shape\u001b[0m\u001b[1;33m[\u001b[0m\u001b[1;36m0\u001b[0m\u001b[1;33m]\u001b[0m \u001b[1;33m!=\u001b[0m \u001b[1;36m1\u001b[0m\u001b[1;33m)\u001b[0m\u001b[1;33m:\u001b[0m\u001b[1;33m\u001b[0m\u001b[0m\n",
      "\u001b[1;31mTypeError\u001b[0m: fixed_point() missing 1 required positional argument: 'n'"
     ]
    }
   ],
   "source": [
    "from scipy import optimize\n",
    "from scipy.optimize import fsolve\n",
    "x = fsolve(fixed_point, 1.0)"
   ]
  },
  {
   "cell_type": "code",
   "execution_count": 58,
   "metadata": {},
   "outputs": [
    {
     "ename": "SyntaxError",
     "evalue": "unexpected EOF while parsing (<ipython-input-58-24a6a96793da>, line 4)",
     "output_type": "error",
     "traceback": [
      "\u001b[1;36m  File \u001b[1;32m\"<ipython-input-58-24a6a96793da>\"\u001b[1;36m, line \u001b[1;32m4\u001b[0m\n\u001b[1;33m    print (findIntersection(fixed_point, Best_response(Q)\u001b[0m\n\u001b[1;37m                                                          ^\u001b[0m\n\u001b[1;31mSyntaxError\u001b[0m\u001b[1;31m:\u001b[0m unexpected EOF while parsing\n"
     ]
    }
   ],
   "source": [
    "def findIntersection(fixed_point, Best_response,):\n",
    "    return [fsolve(lambda x:fixed_point(x)-Best_response(Q))]\n",
    "\n",
    "print (findIntersection(fixed_point, Best_response(Q) "
   ]
  },
  {
   "cell_type": "markdown",
   "metadata": {},
   "source": [
    "If you cannot solve b) then use the following function for the remainder of this exam:\n",
    "\n",
    "`def output(n):\n",
    "    return 0.9/n`"
   ]
  },
  {
   "cell_type": "markdown",
   "metadata": {
    "deletable": false,
    "editable": false,
    "nbgrader": {
     "checksum": "667f97c51b4d61b0654a30c4f1b3aca4",
     "grade": false,
     "grade_id": "cell-4b33762aa4a601fe",
     "locked": true,
     "schema_version": 1,
     "solution": false
    }
   },
   "source": [
    "#### c) [0.5 points] Explain line by line what the following code does. \n",
    "\n",
    "[hint: do not worry if you get a \"RuntimeWarning\"]"
   ]
  },
  {
   "cell_type": "code",
   "execution_count": 9,
   "metadata": {},
   "outputs": [],
   "source": [
    "def output(n):\n",
    "    return 0.9/n"
   ]
  },
  {
   "cell_type": "code",
   "execution_count": 10,
   "metadata": {
    "deletable": false,
    "editable": false,
    "nbgrader": {
     "checksum": "a9fa324f75f4133abcdd86de5742dbb1",
     "grade": false,
     "grade_id": "cell-5ee215676b91f504",
     "locked": true,
     "schema_version": 1,
     "solution": false
    }
   },
   "outputs": [],
   "source": [
    "range_n = np.arange(1,101,1)\n",
    "outputs = [output(n) for n in range_n]\n",
    "\n",
    "df = pd.DataFrame({'n':range_n, 'q':outputs})"
   ]
  },
  {
   "cell_type": "markdown",
   "metadata": {
    "deletable": false,
    "nbgrader": {
     "checksum": "32ef4666d442e453cb46bff6aedd254a",
     "grade": true,
     "grade_id": "cell-87bcbb40d70951cd",
     "locked": false,
     "points": 0.5,
     "schema_version": 1,
     "solution": true
    }
   },
   "source": [
    "range_n = np.arange(1,101,1) gives the interval from 1 to 100 with a step of 1 (1 is the start of the interval and 100 is the stop of the interval, because the last step of 1 isn't in the stop part you have to put stop to a value of 101 so that it will give the interval to 100). So it gives that the range of n (the range of how many firms are in the market) is between 1 and 100 with a step of 1 (firm).\n",
    "\n",
    "outputs = [output(n) for n in range_n] gives the outputs for all outcomes of output(n): \n",
    "                                                                                return 0.9/n    for all n between 0 and 100\n",
    "\n",
    "df = pd.DataFrame({'n':range_n, 'q':outputs}) gives the amount of q given a number of n. So it gives the amount that each firm produces when there are n firms in the market.\n"
   ]
  },
  {
   "cell_type": "code",
   "execution_count": 13,
   "metadata": {},
   "outputs": [
    {
     "name": "stdout",
     "output_type": "stream",
     "text": [
      "[0.9, 0.45, 0.3, 0.225, 0.18, 0.15, 0.1285714285714286, 0.1125, 0.1, 0.09, 0.08181818181818182, 0.075, 0.06923076923076923, 0.0642857142857143, 0.060000000000000005, 0.05625, 0.052941176470588235, 0.05, 0.04736842105263158, 0.045, 0.04285714285714286, 0.04090909090909091, 0.0391304347826087, 0.0375, 0.036000000000000004, 0.03461538461538462, 0.03333333333333333, 0.03214285714285715, 0.03103448275862069, 0.030000000000000002, 0.02903225806451613, 0.028125, 0.027272727272727275, 0.026470588235294117, 0.025714285714285714, 0.025, 0.024324324324324326, 0.02368421052631579, 0.023076923076923078, 0.0225, 0.021951219512195124, 0.02142857142857143, 0.020930232558139535, 0.020454545454545454, 0.02, 0.01956521739130435, 0.019148936170212766, 0.01875, 0.018367346938775512, 0.018000000000000002, 0.01764705882352941, 0.01730769230769231, 0.016981132075471698, 0.016666666666666666, 0.016363636363636365, 0.016071428571428573, 0.015789473684210527, 0.015517241379310345, 0.015254237288135594, 0.015000000000000001, 0.014754098360655738, 0.014516129032258065, 0.014285714285714285, 0.0140625, 0.013846153846153847, 0.013636363636363637, 0.013432835820895522, 0.013235294117647059, 0.013043478260869566, 0.012857142857142857, 0.01267605633802817, 0.0125, 0.012328767123287671, 0.012162162162162163, 0.012, 0.011842105263157895, 0.011688311688311689, 0.011538461538461539, 0.01139240506329114, 0.01125, 0.011111111111111112, 0.010975609756097562, 0.010843373493975903, 0.010714285714285714, 0.010588235294117647, 0.010465116279069767, 0.010344827586206896, 0.010227272727272727, 0.010112359550561799, 0.01, 0.00989010989010989, 0.009782608695652175, 0.00967741935483871, 0.009574468085106383, 0.009473684210526316, 0.009375, 0.009278350515463918, 0.009183673469387756, 0.00909090909090909, 0.009000000000000001]\n"
     ]
    }
   ],
   "source": [
    "print(outputs)"
   ]
  },
  {
   "cell_type": "code",
   "execution_count": 39,
   "metadata": {},
   "outputs": [
    {
     "name": "stdout",
     "output_type": "stream",
     "text": [
      "      n         q\n",
      "0     1  0.900000\n",
      "1     2  0.450000\n",
      "2     3  0.300000\n",
      "3     4  0.225000\n",
      "4     5  0.180000\n",
      "5     6  0.150000\n",
      "6     7  0.128571\n",
      "7     8  0.112500\n",
      "8     9  0.100000\n",
      "9    10  0.090000\n",
      "10   11  0.081818\n",
      "11   12  0.075000\n",
      "12   13  0.069231\n",
      "13   14  0.064286\n",
      "14   15  0.060000\n",
      "15   16  0.056250\n",
      "16   17  0.052941\n",
      "17   18  0.050000\n",
      "18   19  0.047368\n",
      "19   20  0.045000\n",
      "20   21  0.042857\n",
      "21   22  0.040909\n",
      "22   23  0.039130\n",
      "23   24  0.037500\n",
      "24   25  0.036000\n",
      "25   26  0.034615\n",
      "26   27  0.033333\n",
      "27   28  0.032143\n",
      "28   29  0.031034\n",
      "29   30  0.030000\n",
      "..  ...       ...\n",
      "70   71  0.012676\n",
      "71   72  0.012500\n",
      "72   73  0.012329\n",
      "73   74  0.012162\n",
      "74   75  0.012000\n",
      "75   76  0.011842\n",
      "76   77  0.011688\n",
      "77   78  0.011538\n",
      "78   79  0.011392\n",
      "79   80  0.011250\n",
      "80   81  0.011111\n",
      "81   82  0.010976\n",
      "82   83  0.010843\n",
      "83   84  0.010714\n",
      "84   85  0.010588\n",
      "85   86  0.010465\n",
      "86   87  0.010345\n",
      "87   88  0.010227\n",
      "88   89  0.010112\n",
      "89   90  0.010000\n",
      "90   91  0.009890\n",
      "91   92  0.009783\n",
      "92   93  0.009677\n",
      "93   94  0.009574\n",
      "94   95  0.009474\n",
      "95   96  0.009375\n",
      "96   97  0.009278\n",
      "97   98  0.009184\n",
      "98   99  0.009091\n",
      "99  100  0.009000\n",
      "\n",
      "[100 rows x 2 columns]\n"
     ]
    }
   ],
   "source": [
    "print(df)"
   ]
  },
  {
   "cell_type": "code",
   "execution_count": 30,
   "metadata": {},
   "outputs": [],
   "source": [
    "n = range_n\n",
    "q = output(n)"
   ]
  },
  {
   "cell_type": "markdown",
   "metadata": {
    "deletable": false,
    "editable": false,
    "nbgrader": {
     "checksum": "25aacf969bdbb884cf23e10c0438fd74",
     "grade": false,
     "grade_id": "cell-6c4db6792f1fbdce",
     "locked": true,
     "schema_version": 1,
     "solution": false
    }
   },
   "source": [
    "#### d) [0.5 points] Plot output per firm $q$ as a function of the number of firms $n$. Put labels on both the horizontal and vertical axes to explain what they show."
   ]
  },
  {
   "cell_type": "code",
   "execution_count": 46,
   "metadata": {
    "deletable": false,
    "nbgrader": {
     "checksum": "58c8958d68d31fe681816dfa548dfd74",
     "grade": true,
     "grade_id": "cell-95da004cd36c6f96",
     "locked": false,
     "points": 0.5,
     "schema_version": 1,
     "solution": true
    }
   },
   "outputs": [
    {
     "data": {
      "text/plain": [
       "Text(0.5,1,'output level of each firm as a funtion of the number of firms in the market')"
      ]
     },
     "execution_count": 46,
     "metadata": {},
     "output_type": "execute_result"
    },
    {
     "data": {
      "image/png": "[encoded data removed]",
      "text/plain": [
       "<matplotlib.figure.Figure at 0x19f4e3f9518>"
      ]
     },
     "metadata": {},
     "output_type": "display_data"
    }
   ],
   "source": [
    "plt.plot(0.9/n)\n",
    "plt.xlabel('Number of firms in the market')\n",
    "plt.ylabel('Output level of each firm')\n",
    "plt.title('output level of each firm as a funtion of the number of firms in the market')"
   ]
  },
  {
   "cell_type": "code",
   "execution_count": null,
   "metadata": {},
   "outputs": [],
   "source": []
  },
  {
   "cell_type": "markdown",
   "metadata": {
    "deletable": false,
    "editable": false,
    "nbgrader": {
     "checksum": "dec7cd835c071c7605a8352487410b18",
     "grade": false,
     "grade_id": "cell-3cc076ae39753881",
     "locked": true,
     "schema_version": 1,
     "solution": false
    }
   },
   "source": [
    "#### e) [0.5 point] Create two new columns for the dataframe `df`: (i) a column `Q` with total equilibrium output in the industry $Q=n*q$ and (ii) a column `p` with the equilibrium price."
   ]
  },
  {
   "cell_type": "code",
   "execution_count": 45,
   "metadata": {
    "deletable": false,
    "nbgrader": {
     "checksum": "6ac5f7f87f79a5a580298b70eb6603c6",
     "grade": true,
     "grade_id": "cell-0f18e4fded25833f",
     "locked": false,
     "points": 0.5,
     "schema_version": 1,
     "solution": true
    }
   },
   "outputs": [
    {
     "name": "stdout",
     "output_type": "stream",
     "text": [
      "      Q    n         p         q\n",
      "0   0.9    1  0.100000  0.900000\n",
      "1   0.9    2  0.050000  0.450000\n",
      "2   0.9    3  0.033333  0.300000\n",
      "3   0.9    4  0.025000  0.225000\n",
      "4   0.9    5  0.020000  0.180000\n",
      "5   0.9    6  0.016667  0.150000\n",
      "6   0.9    7  0.014286  0.128571\n",
      "7   0.9    8  0.012500  0.112500\n",
      "8   0.9    9  0.011111  0.100000\n",
      "9   0.9   10  0.010000  0.090000\n",
      "10  0.9   11  0.009091  0.081818\n",
      "11  0.9   12  0.008333  0.075000\n",
      "12  0.9   13  0.007692  0.069231\n",
      "13  0.9   14  0.007143  0.064286\n",
      "14  0.9   15  0.006667  0.060000\n",
      "15  0.9   16  0.006250  0.056250\n",
      "16  0.9   17  0.005882  0.052941\n",
      "17  0.9   18  0.005556  0.050000\n",
      "18  0.9   19  0.005263  0.047368\n",
      "19  0.9   20  0.005000  0.045000\n",
      "20  0.9   21  0.004762  0.042857\n",
      "21  0.9   22  0.004545  0.040909\n",
      "22  0.9   23  0.004348  0.039130\n",
      "23  0.9   24  0.004167  0.037500\n",
      "24  0.9   25  0.004000  0.036000\n",
      "25  0.9   26  0.003846  0.034615\n",
      "26  0.9   27  0.003704  0.033333\n",
      "27  0.9   28  0.003571  0.032143\n",
      "28  0.9   29  0.003448  0.031034\n",
      "29  0.9   30  0.003333  0.030000\n",
      "..  ...  ...       ...       ...\n",
      "70  0.9   71  0.001408  0.012676\n",
      "71  0.9   72  0.001389  0.012500\n",
      "72  0.9   73  0.001370  0.012329\n",
      "73  0.9   74  0.001351  0.012162\n",
      "74  0.9   75  0.001333  0.012000\n",
      "75  0.9   76  0.001316  0.011842\n",
      "76  0.9   77  0.001299  0.011688\n",
      "77  0.9   78  0.001282  0.011538\n",
      "78  0.9   79  0.001266  0.011392\n",
      "79  0.9   80  0.001250  0.011250\n",
      "80  0.9   81  0.001235  0.011111\n",
      "81  0.9   82  0.001220  0.010976\n",
      "82  0.9   83  0.001205  0.010843\n",
      "83  0.9   84  0.001190  0.010714\n",
      "84  0.9   85  0.001176  0.010588\n",
      "85  0.9   86  0.001163  0.010465\n",
      "86  0.9   87  0.001149  0.010345\n",
      "87  0.9   88  0.001136  0.010227\n",
      "88  0.9   89  0.001124  0.010112\n",
      "89  0.9   90  0.001111  0.010000\n",
      "90  0.9   91  0.001099  0.009890\n",
      "91  0.9   92  0.001087  0.009783\n",
      "92  0.9   93  0.001075  0.009677\n",
      "93  0.9   94  0.001064  0.009574\n",
      "94  0.9   95  0.001053  0.009474\n",
      "95  0.9   96  0.001042  0.009375\n",
      "96  0.9   97  0.001031  0.009278\n",
      "97  0.9   98  0.001020  0.009184\n",
      "98  0.9   99  0.001010  0.009091\n",
      "99  0.9  100  0.001000  0.009000\n",
      "\n",
      "[100 rows x 4 columns]\n"
     ]
    }
   ],
   "source": [
    "Q = n*q\n",
    "\n",
    "df = pd.DataFrame({'n':range_n, 'q':outputs, 'Q':n*q, 'p':p(Q)/n})\n",
    "\n",
    "print(df)"
   ]
  },
  {
   "cell_type": "markdown",
   "metadata": {
    "deletable": false,
    "editable": false,
    "nbgrader": {
     "checksum": "63f16cd3100c595d2f5ad2b2686e04e7",
     "grade": false,
     "grade_id": "cell-9847a5147fc6bc0b",
     "locked": true,
     "schema_version": 1,
     "solution": false
    }
   },
   "source": [
    "#### f) [0.5 points] Make a new plot, this time with price as a function of the number of firms."
   ]
  },
  {
   "cell_type": "code",
   "execution_count": 38,
   "metadata": {
    "deletable": false,
    "nbgrader": {
     "checksum": "d9385c965608e0babffe255a7d375e19",
     "grade": true,
     "grade_id": "cell-6c036cfb38c024d3",
     "locked": false,
     "points": 0.5,
     "schema_version": 1,
     "solution": true
    }
   },
   "outputs": [
    {
     "data": {
      "text/plain": [
       "Text(0.5,1,'Equilibrium price as a function of number of firms in the market')"
      ]
     },
     "execution_count": 38,
     "metadata": {},
     "output_type": "execute_result"
    },
    {
     "data": {
      "image/png": "[encoded data removed]",
      "text/plain": [
       "<matplotlib.figure.Figure at 0x19f4ccdfbe0>"
      ]
     },
     "metadata": {},
     "output_type": "display_data"
    }
   ],
   "source": [
    "plt.plot(p(Q)/n)\n",
    "plt.xlabel('Number of firms in the market')\n",
    "plt.ylabel('Equilibrium price')\n",
    "plt.title('Equilibrium price as a function of number of firms in the market')"
   ]
  },
  {
   "cell_type": "markdown",
   "metadata": {
    "deletable": false,
    "editable": false,
    "nbgrader": {
     "checksum": "5e55fc661d4878877ae0fe32297169b2",
     "grade": false,
     "grade_id": "cell-62ba6216d71df5b1",
     "locked": true,
     "schema_version": 1,
     "solution": false
    }
   },
   "source": [
    "#### g) [0.5 points] As the number of firms becomes larger (goes to infinity) to which value does $p$ converge? Why is this the case; i.e. what is the *economic* intuition for this?"
   ]
  },
  {
   "cell_type": "markdown",
   "metadata": {
    "deletable": false,
    "nbgrader": {
     "checksum": "c383ae33c703af49f3c6c3da0de5a5de",
     "grade": true,
     "grade_id": "cell-540f086f98c73334",
     "locked": false,
     "points": 0.5,
     "schema_version": 1,
     "solution": true
    }
   },
   "source": [
    "If the number of firms becomes larger (goes to infinity) than the value of p will converge to 0. As more and more firms will produce the lower the price will be. More supply and the same demand will lead to a lower price. If the number of firms goes to infinity the supply will get so big that the price (p) will converge to 0."
   ]
  },
  {
   "cell_type": "markdown",
   "metadata": {},
   "source": [
    "## Github\n",
    "\n",
    "After you have finished, we need to upload this notebook on github."
   ]
  },
  {
   "cell_type": "markdown",
   "metadata": {},
   "source": [
    "Instructions on how to upload this on github can be found [on this page](http://janboone.github.io/programming-for-economists/github.html). This page has two screencasts: one shows how to drag the notebook onto your github page, the other shows how you can use the command line to upload your notebook.\n"
   ]
  },
  {
   "cell_type": "markdown",
   "metadata": {},
   "source": [
    "Remember to update the README file in your repository to include a link to this notebook on github.\n",
    "\n",
    "\n",
    "The links that you should post start with “github.com/” and are NOT of the form “http://localhost”. Make sure you test your links after uploading."
   ]
  },
  {
   "cell_type": "code",
   "execution_count": null,
   "metadata": {},
   "outputs": [],
   "source": []
  }
 ],
 "metadata": {
  "anaconda-cloud": {},
  "kernelspec": {
   "display_name": "Python 3",
   "language": "python",
   "name": "python3"
  }
 },
 "nbformat": 4,
 "nbformat_minor": 1
}
